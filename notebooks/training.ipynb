{
 "cells": [
  {
   "cell_type": "markdown",
   "id": "c33e1c2c",
   "metadata": {
    "id": "pQyqiLZ92bMk"
   },
   "source": [
    "# Tutorial 1: Basics"
   ]
  },
  {
   "cell_type": "markdown",
   "id": "35c56a11",
   "metadata": {},
   "source": [
    "<img src=\"../../imgs/LightAutoML_logo_big.png\" alt=\"LightAutoML logo\" style=\"width:100%;\"/>"
   ]
  },
  {
   "cell_type": "markdown",
   "id": "cecaad99",
   "metadata": {},
   "source": [
    "Official LightAutoML github repository is [here](https://github.com/AILab-MLTools/LightAutoML)"
   ]
  },
  {
   "cell_type": "markdown",
   "id": "235f2ec5",
   "metadata": {
    "id": "gFzXGDuL2bMn"
   },
   "source": [
    "\n",
    "In this tutorial you will learn how to:\n",
    "* run LightAutoML training on tabular data\n",
    "* obtain feature importances and reports\n",
    "* configure resource usage in LightAutoML"
   ]
  },
  {
   "cell_type": "markdown",
   "id": "850775ae",
   "metadata": {
    "id": "--gI4aWw2bMo"
   },
   "source": [
    "## 0. Prerequisites"
   ]
  },
  {
   "cell_type": "markdown",
   "id": "53f26dec",
   "metadata": {
    "id": "EW8t2auc2bMo"
   },
   "source": [
    "### 0.0. install LightAutoML"
   ]
  },
  {
   "cell_type": "code",
   "execution_count": 1,
   "id": "23845534",
   "metadata": {
    "colab": {
     "base_uri": "https://localhost:8080/"
    },
    "id": "PxB5akY72CeU",
    "outputId": "309df975-cca5-482d-fd2b-6b311cd44d0f"
   },
   "outputs": [],
   "source": [
    "#!pip install -U lightautoml"
   ]
  },
  {
   "cell_type": "markdown",
   "id": "177ee753",
   "metadata": {
    "id": "59LiCNpL2bMp"
   },
   "source": [
    "### 0.1. Import libraries\n",
    "\n",
    "Here we will import the libraries we use in this kernel:\n",
    "- Standard python libraries for timing, working with OS and HTTP requests etc.\n",
    "- Essential python DS libraries like numpy, pandas, scikit-learn and torch (the last we will use in the next cell)\n",
    "- LightAutoML modules: presets for AutoML, task and report generation module"
   ]
  },
  {
   "cell_type": "code",
   "execution_count": 1,
   "id": "254b8770",
   "metadata": {},
   "outputs": [],
   "source": [
    "import warnings\n",
    "warnings.simplefilter(action='ignore', category=FutureWarning)"
   ]
  },
  {
   "cell_type": "code",
   "execution_count": 2,
   "id": "eb69ae13",
   "metadata": {
    "id": "8OtdRJoe2bMp"
   },
   "outputs": [],
   "source": [
    "# Standard python libraries\n",
    "import os\n",
    "import json\n",
    "import requests\n",
    "\n",
    "# Essential DS libraries\n",
    "import numpy as np\n",
    "import pandas as pd\n",
    "from sklearn.metrics import roc_auc_score, recall_score, precision_score, classification_report, \\\n",
    "    mean_absolute_error\n",
    "from sklearn.model_selection import train_test_split\n",
    "from copy import deepcopy\n",
    "\n",
    "# LightAutoML presets, task and report generation\n",
    "from lightautoml.automl.presets.tabular_presets import TabularAutoML, TabularUtilizedAutoML\n",
    "from lightautoml.tasks import Task\n",
    "from lightautoml.report.report_deco import ReportDeco\n",
    "from tqdm.notebook import tqdm\n",
    "from tqdm import notebook\n",
    "from natsort import natsort_keygen"
   ]
  },
  {
   "cell_type": "markdown",
   "id": "268ae498",
   "metadata": {
    "id": "1-VzKJeB2bMq"
   },
   "source": [
    "### 0.2. Constants\n",
    "\n",
    "Here we setup some parameters to use in the kernel:\n",
    "- `N_THREADS` - number of vCPUs for LightAutoML model creation\n",
    "- `N_FOLDS` - number of folds in LightAutoML inner CV\n",
    "- `RANDOM_STATE` - random seed for better reproducibility\n",
    "- `TEST_SIZE` - houldout data part size \n",
    "- `TIMEOUT` - limit in seconds for model to train\n",
    "- `TARGET_NAME` - target column name in dataset"
   ]
  },
  {
   "cell_type": "code",
   "execution_count": 3,
   "id": "1271bdc4",
   "metadata": {
    "id": "-TND-JX52bMq"
   },
   "outputs": [],
   "source": [
    "N_THREADS = 4\n",
    "N_FOLDS = 5\n",
    "RANDOM_STATE = 42\n",
    "TEST_SIZE = 0.1\n",
    "TIMEOUT = 3000\n",
    "TARGET_NAME = 'target'"
   ]
  },
  {
   "cell_type": "markdown",
   "id": "5c2bd729",
   "metadata": {
    "id": "GXcjenRc2bMr"
   },
   "source": [
    "### 0.3. Imported models setup\n",
    "\n",
    "For better reproducibility fix numpy random seed with max number of threads for Torch (which usually try to use all the threads on server):"
   ]
  },
  {
   "cell_type": "code",
   "execution_count": 4,
   "id": "d3aae409",
   "metadata": {
    "id": "x8b_X9_J2bMr"
   },
   "outputs": [],
   "source": [
    "np.random.seed(RANDOM_STATE)"
   ]
  },
  {
   "cell_type": "markdown",
   "id": "e94d6a2b",
   "metadata": {
    "id": "ujRqjqnS2bMs"
   },
   "source": [
    "### 0.4. Data loading\n",
    "Let's check the data we have:"
   ]
  },
  {
   "cell_type": "code",
   "execution_count": 5,
   "id": "73b150f0",
   "metadata": {
    "id": "vddIvk6h2bMs"
   },
   "outputs": [
    {
     "name": "stderr",
     "output_type": "stream",
     "text": [
      "C:\\Users\\vkrin\\AppData\\Local\\Temp\\ipykernel_27284\\3390824241.py:1: DtypeWarning: Columns (13) have mixed types. Specify dtype option on import or set low_memory=False.\n",
      "  data = pd.read_csv('dataset_hackaton_ksg__v2__23062023__1710_GMT3.csv', sep=';', index_col=0,\n"
     ]
    }
   ],
   "source": [
    "data = pd.read_csv('dataset_hackaton_ksg__v2__23062023__1710_GMT3.csv', sep=';', index_col=0,\n",
    "                  parse_dates = [\"ДатаНачалаЗадачи\", \"ДатаОкончанияЗадачи\", \"ДатаначалаБП0\", \"ДатаокончанияБП0\", \"date_report\"])\n",
    "tasks = pd.read_excel('Перечень задач 1.xlsx')"
   ]
  },
  {
   "cell_type": "code",
   "execution_count": 6,
   "id": "ed5ba12d",
   "metadata": {
    "scrolled": true
   },
   "outputs": [],
   "source": [
    "data = data[(~((data['ПроцентЗавершенияЗадачи']==0) & ((data['ДатаНачалаЗадачи'] - data['date_report']).dt.days > 8)))] \\\n",
    "    .sort_values(['obj_key', 'Кодзадачи', 'НазваниеЗадачи', 'date_report', 'ДатаОкончанияЗадачи', 'ПроцентЗавершенияЗадачи']) \\\n",
    "    .drop_duplicates(['obj_key', 'Кодзадачи', 'НазваниеЗадачи', 'date_report', 'ДатаОкончанияЗадачи'], keep='last') \\\n",
    "    .dropna(subset=['ДатаОкончанияЗадачи'])\n",
    "data[\"target\"] = (data.groupby([\"obj_key\", \"Кодзадачи\", \"НазваниеЗадачи\"])[\"ДатаОкончанияЗадачи\"].transform(pd.Series.diff).dt.days).shift(-1)\n",
    "data['binary_target'] = (data['target'] > 0).astype(int)"
   ]
  },
  {
   "cell_type": "code",
   "execution_count": 7,
   "id": "3ded9155",
   "metadata": {},
   "outputs": [],
   "source": [
    "train = data[data.date_report < np.datetime64('2023-05-19')].dropna(subset=['target'])\n",
    "test = data[data.date_report == np.datetime64('2023-04-24')].dropna(subset=['target'])"
   ]
  },
  {
   "cell_type": "code",
   "execution_count": 8,
   "id": "7a537a73",
   "metadata": {},
   "outputs": [],
   "source": [
    "attr = pd.read_csv('data_mgz_attributes__24062023__1000_GMT3.csv',sep=';', parse_dates=['date_report'], index_col=0) \\\n",
    "    .rename(columns={'Код ДС': 'obj_key'})"
   ]
  },
  {
   "cell_type": "code",
   "execution_count": 9,
   "id": "7a461dda",
   "metadata": {},
   "outputs": [
    {
     "data": {
      "text/html": [
       "<div>\n",
       "<style scoped>\n",
       "    .dataframe tbody tr th:only-of-type {\n",
       "        vertical-align: middle;\n",
       "    }\n",
       "\n",
       "    .dataframe tbody tr th {\n",
       "        vertical-align: top;\n",
       "    }\n",
       "\n",
       "    .dataframe thead th {\n",
       "        text-align: right;\n",
       "    }\n",
       "</style>\n",
       "<table border=\"1\" class=\"dataframe\">\n",
       "  <thead>\n",
       "    <tr style=\"text-align: right;\">\n",
       "      <th></th>\n",
       "      <th>№ п/п</th>\n",
       "      <th>obj_prg</th>\n",
       "      <th>obj_subprg</th>\n",
       "      <th>obj_key</th>\n",
       "      <th>obj_shortName</th>\n",
       "      <th>Кодзадачи</th>\n",
       "      <th>НазваниеЗадачи</th>\n",
       "      <th>ПроцентЗавершенияЗадачи</th>\n",
       "      <th>ДатаНачалаЗадачи</th>\n",
       "      <th>ДатаОкончанияЗадачи</th>\n",
       "      <th>ДатаначалаБП0</th>\n",
       "      <th>ДатаокончанияБП0</th>\n",
       "      <th>Статуспоэкспертизе</th>\n",
       "      <th>Экспертиза</th>\n",
       "      <th>date_report</th>\n",
       "    </tr>\n",
       "  </thead>\n",
       "  <tbody>\n",
       "    <tr>\n",
       "      <th>0</th>\n",
       "      <td>36</td>\n",
       "      <td>Образование</td>\n",
       "      <td>Дошкольные учреждения</td>\n",
       "      <td>020-0684</td>\n",
       "      <td>ДОУ на 125, ТПУ \"Мневники\"</td>\n",
       "      <td>1</td>\n",
       "      <td>Предпроектные работы</td>\n",
       "      <td>0.0</td>\n",
       "      <td>2020-11-03</td>\n",
       "      <td>2022-02-01</td>\n",
       "      <td>2020-11-03</td>\n",
       "      <td>2021-12-29</td>\n",
       "      <td>NaN</td>\n",
       "      <td>NaN</td>\n",
       "      <td>2023-06-19</td>\n",
       "    </tr>\n",
       "    <tr>\n",
       "      <th>1</th>\n",
       "      <td>35</td>\n",
       "      <td>Образование</td>\n",
       "      <td>Дошкольные учреждения</td>\n",
       "      <td>019-0589</td>\n",
       "      <td>ДОУ на 225, ТПУ \"Мневники\"</td>\n",
       "      <td>1</td>\n",
       "      <td>Предпроектные работы</td>\n",
       "      <td>0.0</td>\n",
       "      <td>2020-11-03</td>\n",
       "      <td>2022-05-16</td>\n",
       "      <td>2020-11-03</td>\n",
       "      <td>2021-12-29</td>\n",
       "      <td>NaN</td>\n",
       "      <td>NaN</td>\n",
       "      <td>2023-06-19</td>\n",
       "    </tr>\n",
       "    <tr>\n",
       "      <th>2</th>\n",
       "      <td>61</td>\n",
       "      <td>Образование</td>\n",
       "      <td>Общеобразовательные учреждения</td>\n",
       "      <td>019-0594</td>\n",
       "      <td>Школа на 800, ТПУ \"Мневники\"</td>\n",
       "      <td>1</td>\n",
       "      <td>Предпроектные работы</td>\n",
       "      <td>0.0</td>\n",
       "      <td>2021-05-04</td>\n",
       "      <td>2021-12-15</td>\n",
       "      <td>2021-05-04</td>\n",
       "      <td>2021-12-15</td>\n",
       "      <td>NaN</td>\n",
       "      <td>NaN</td>\n",
       "      <td>2023-06-19</td>\n",
       "    </tr>\n",
       "    <tr>\n",
       "      <th>3</th>\n",
       "      <td>89</td>\n",
       "      <td>Культура</td>\n",
       "      <td>Культурные центры</td>\n",
       "      <td>021-0458</td>\n",
       "      <td>КСЦ \"Печатники\", Полбина</td>\n",
       "      <td>1</td>\n",
       "      <td>Предпроектные работы</td>\n",
       "      <td>100.0</td>\n",
       "      <td>2021-10-12</td>\n",
       "      <td>2023-05-29</td>\n",
       "      <td>2021-10-12</td>\n",
       "      <td>2023-05-12</td>\n",
       "      <td>NaN</td>\n",
       "      <td>NaN</td>\n",
       "      <td>2023-06-19</td>\n",
       "    </tr>\n",
       "    <tr>\n",
       "      <th>4</th>\n",
       "      <td>34</td>\n",
       "      <td>Образование</td>\n",
       "      <td>Дошкольные учреждения</td>\n",
       "      <td>017-0520</td>\n",
       "      <td>ДОУ на 350, ул. 6-я Радиальная и ул. Дуговая</td>\n",
       "      <td>1</td>\n",
       "      <td>Предпроектные работы</td>\n",
       "      <td>100.0</td>\n",
       "      <td>2018-11-01</td>\n",
       "      <td>2022-02-15</td>\n",
       "      <td>2018-11-01</td>\n",
       "      <td>2022-02-15</td>\n",
       "      <td>NaN</td>\n",
       "      <td>NaN</td>\n",
       "      <td>2023-06-19</td>\n",
       "    </tr>\n",
       "    <tr>\n",
       "      <th>...</th>\n",
       "      <td>...</td>\n",
       "      <td>...</td>\n",
       "      <td>...</td>\n",
       "      <td>...</td>\n",
       "      <td>...</td>\n",
       "      <td>...</td>\n",
       "      <td>...</td>\n",
       "      <td>...</td>\n",
       "      <td>...</td>\n",
       "      <td>...</td>\n",
       "      <td>...</td>\n",
       "      <td>...</td>\n",
       "      <td>...</td>\n",
       "      <td>...</td>\n",
       "      <td>...</td>\n",
       "    </tr>\n",
       "    <tr>\n",
       "      <th>64646</th>\n",
       "      <td>80</td>\n",
       "      <td>Образование</td>\n",
       "      <td>Общеобразовательные учреждения</td>\n",
       "      <td>022-0522</td>\n",
       "      <td>Школа на 600 мест, ул. Новохохловская</td>\n",
       "      <td>9.6.2</td>\n",
       "      <td>Акт приемки законченного строительством объект...</td>\n",
       "      <td>0.0</td>\n",
       "      <td>2025-08-14</td>\n",
       "      <td>2025-08-14</td>\n",
       "      <td>2025-08-11</td>\n",
       "      <td>2025-08-11</td>\n",
       "      <td>NaN</td>\n",
       "      <td>NaN</td>\n",
       "      <td>2023-06-19</td>\n",
       "    </tr>\n",
       "    <tr>\n",
       "      <th>64647</th>\n",
       "      <td>84</td>\n",
       "      <td>Образование</td>\n",
       "      <td>Общеобразовательные учреждения</td>\n",
       "      <td>022-0527</td>\n",
       "      <td>ЗОО на 375 мест, р-н Северное Измайлово, мкр. ...</td>\n",
       "      <td>9.6.2</td>\n",
       "      <td>Акт приемки законченного строительством объект...</td>\n",
       "      <td>0.0</td>\n",
       "      <td>2024-07-12</td>\n",
       "      <td>2024-07-12</td>\n",
       "      <td>2024-08-07</td>\n",
       "      <td>2024-08-07</td>\n",
       "      <td>NaN</td>\n",
       "      <td>NaN</td>\n",
       "      <td>2023-06-19</td>\n",
       "    </tr>\n",
       "    <tr>\n",
       "      <th>64648</th>\n",
       "      <td>83</td>\n",
       "      <td>Образование</td>\n",
       "      <td>Общеобразовательные учреждения</td>\n",
       "      <td>022-0526</td>\n",
       "      <td>ЗОО на 700 мест, ул. 11-я Парковая</td>\n",
       "      <td>9.6.2</td>\n",
       "      <td>КC-11 оформлена</td>\n",
       "      <td>0.0</td>\n",
       "      <td>2025-08-11</td>\n",
       "      <td>2025-08-11</td>\n",
       "      <td>2025-08-11</td>\n",
       "      <td>2025-08-11</td>\n",
       "      <td>NaN</td>\n",
       "      <td>NaN</td>\n",
       "      <td>2023-06-19</td>\n",
       "    </tr>\n",
       "    <tr>\n",
       "      <th>64649</th>\n",
       "      <td>79</td>\n",
       "      <td>Образование</td>\n",
       "      <td>Общеобразовательные учреждения</td>\n",
       "      <td>022-0354</td>\n",
       "      <td>Школа 1175, ул. 6-я Радиальная и Дуговая</td>\n",
       "      <td>9.6.2</td>\n",
       "      <td>КC-11 оформлена</td>\n",
       "      <td>0.0</td>\n",
       "      <td>2025-07-21</td>\n",
       "      <td>2025-07-21</td>\n",
       "      <td>2025-07-21</td>\n",
       "      <td>2025-07-21</td>\n",
       "      <td>NaN</td>\n",
       "      <td>NaN</td>\n",
       "      <td>2023-06-19</td>\n",
       "    </tr>\n",
       "    <tr>\n",
       "      <th>64650</th>\n",
       "      <td>26</td>\n",
       "      <td>Здравоохранение</td>\n",
       "      <td>Поликлиники</td>\n",
       "      <td>019-0476</td>\n",
       "      <td>ПАК \"ГКБ им. А.К.Ерамишанцева</td>\n",
       "      <td>9.6.2</td>\n",
       "      <td>КC-11 оформлена (АКТ приёмки завершенного стро...</td>\n",
       "      <td>100.0</td>\n",
       "      <td>2023-03-06</td>\n",
       "      <td>2023-03-06</td>\n",
       "      <td>NaT</td>\n",
       "      <td>NaT</td>\n",
       "      <td>NaN</td>\n",
       "      <td>NaN</td>\n",
       "      <td>2023-06-19</td>\n",
       "    </tr>\n",
       "  </tbody>\n",
       "</table>\n",
       "<p>64651 rows × 15 columns</p>\n",
       "</div>"
      ],
      "text/plain": [
       "       № п/п          obj_prg                      obj_subprg   obj_key  \\\n",
       "0         36      Образование           Дошкольные учреждения  020-0684   \n",
       "1         35      Образование           Дошкольные учреждения  019-0589   \n",
       "2         61      Образование  Общеобразовательные учреждения  019-0594   \n",
       "3         89         Культура               Культурные центры  021-0458   \n",
       "4         34      Образование           Дошкольные учреждения  017-0520   \n",
       "...      ...              ...                             ...       ...   \n",
       "64646     80      Образование  Общеобразовательные учреждения  022-0522   \n",
       "64647     84      Образование  Общеобразовательные учреждения  022-0527   \n",
       "64648     83      Образование  Общеобразовательные учреждения  022-0526   \n",
       "64649     79      Образование  Общеобразовательные учреждения  022-0354   \n",
       "64650     26  Здравоохранение                     Поликлиники  019-0476   \n",
       "\n",
       "                                           obj_shortName Кодзадачи  \\\n",
       "0                             ДОУ на 125, ТПУ \"Мневники\"         1   \n",
       "1                             ДОУ на 225, ТПУ \"Мневники\"         1   \n",
       "2                           Школа на 800, ТПУ \"Мневники\"         1   \n",
       "3                               КСЦ \"Печатники\", Полбина         1   \n",
       "4           ДОУ на 350, ул. 6-я Радиальная и ул. Дуговая         1   \n",
       "...                                                  ...       ...   \n",
       "64646              Школа на 600 мест, ул. Новохохловская     9.6.2   \n",
       "64647  ЗОО на 375 мест, р-н Северное Измайлово, мкр. ...     9.6.2   \n",
       "64648                 ЗОО на 700 мест, ул. 11-я Парковая     9.6.2   \n",
       "64649           Школа 1175, ул. 6-я Радиальная и Дуговая     9.6.2   \n",
       "64650                      ПАК \"ГКБ им. А.К.Ерамишанцева     9.6.2   \n",
       "\n",
       "                                          НазваниеЗадачи  \\\n",
       "0                                   Предпроектные работы   \n",
       "1                                   Предпроектные работы   \n",
       "2                                   Предпроектные работы   \n",
       "3                                   Предпроектные работы   \n",
       "4                                   Предпроектные работы   \n",
       "...                                                  ...   \n",
       "64646  Акт приемки законченного строительством объект...   \n",
       "64647  Акт приемки законченного строительством объект...   \n",
       "64648                                    КC-11 оформлена   \n",
       "64649                                    КC-11 оформлена   \n",
       "64650  КC-11 оформлена (АКТ приёмки завершенного стро...   \n",
       "\n",
       "       ПроцентЗавершенияЗадачи ДатаНачалаЗадачи ДатаОкончанияЗадачи  \\\n",
       "0                          0.0       2020-11-03          2022-02-01   \n",
       "1                          0.0       2020-11-03          2022-05-16   \n",
       "2                          0.0       2021-05-04          2021-12-15   \n",
       "3                        100.0       2021-10-12          2023-05-29   \n",
       "4                        100.0       2018-11-01          2022-02-15   \n",
       "...                        ...              ...                 ...   \n",
       "64646                      0.0       2025-08-14          2025-08-14   \n",
       "64647                      0.0       2024-07-12          2024-07-12   \n",
       "64648                      0.0       2025-08-11          2025-08-11   \n",
       "64649                      0.0       2025-07-21          2025-07-21   \n",
       "64650                    100.0       2023-03-06          2023-03-06   \n",
       "\n",
       "      ДатаначалаБП0 ДатаокончанияБП0  Статуспоэкспертизе Экспертиза  \\\n",
       "0        2020-11-03       2021-12-29                 NaN        NaN   \n",
       "1        2020-11-03       2021-12-29                 NaN        NaN   \n",
       "2        2021-05-04       2021-12-15                 NaN        NaN   \n",
       "3        2021-10-12       2023-05-12                 NaN        NaN   \n",
       "4        2018-11-01       2022-02-15                 NaN        NaN   \n",
       "...             ...              ...                 ...        ...   \n",
       "64646    2025-08-11       2025-08-11                 NaN        NaN   \n",
       "64647    2024-08-07       2024-08-07                 NaN        NaN   \n",
       "64648    2025-08-11       2025-08-11                 NaN        NaN   \n",
       "64649    2025-07-21       2025-07-21                 NaN        NaN   \n",
       "64650           NaT              NaT                 NaN        NaN   \n",
       "\n",
       "      date_report  \n",
       "0      2023-06-19  \n",
       "1      2023-06-19  \n",
       "2      2023-06-19  \n",
       "3      2023-06-19  \n",
       "4      2023-06-19  \n",
       "...           ...  \n",
       "64646  2023-06-19  \n",
       "64647  2023-06-19  \n",
       "64648  2023-06-19  \n",
       "64649  2023-06-19  \n",
       "64650  2023-06-19  \n",
       "\n",
       "[64651 rows x 15 columns]"
      ]
     },
     "execution_count": 9,
     "metadata": {},
     "output_type": "execute_result"
    }
   ],
   "source": [
    "check = pd.read_excel('Тест.xlsx').dropna(subset=['Кодзадачи'])\n",
    "check['date_report'] = np.datetime64('2023-06-19')\n",
    "check"
   ]
  },
  {
   "cell_type": "code",
   "execution_count": 11,
   "id": "a1fb5681",
   "metadata": {},
   "outputs": [],
   "source": [
    "def add_features(df, attr, historical_data=None):\n",
    "    data = deepcopy(df)\n",
    "    for col in [\"ДатаНачалаЗадачи\", \"ДатаОкончанияЗадачи\", \"ДатаначалаБП0\", \"ДатаокончанияБП0\", \"date_report\"]:\n",
    "        data[col] = pd.to_datetime(data[col])\n",
    "    data = pd.merge(data, attr, on=['obj_key', 'date_report'], how='left')\n",
    "    data = data.dropna(subset=['Кодзадачи'])\n",
    "    data[\"Статуспоэкспертизе\"] = data[\"Статуспоэкспертизе\"].fillna(0)\n",
    "    data[\"состояние площадки\"] = data[\"состояние площадки\"].fillna(\"Свободна, передана\")\n",
    "    data[\"НазваниеЗадачи\"] = data[\"НазваниеЗадачи\"].fillna(\"unknow\")\n",
    "    data[\"Экспертиза\"] = data[\"Экспертиза\"].fillna(\"unknow\")\n",
    "    data[\"diff_start\"] = (((data[\"ДатаначалаБП0\"] - data[\"ДатаНачалаЗадачи\"]).dt.days).fillna(0)).astype(np.int32)\n",
    "    data[\"diff_end\"] = (((data[\"ДатаокончанияБП0\"] - data[\"ДатаОкончанияЗадачи\"]).dt.days).fillna(0)).astype(np.int32)\n",
    "    data[\"early_start\"] = (data[\"diff_start\"] > 0).astype(np.uint8)\n",
    "    data[\"start_on_time\"] = (data[\"diff_start\"] == 0).astype(np.uint8)\n",
    "    data[\"late_end\"] = (data[\"diff_end\"] < 0).astype(np.uint8)\n",
    "    data[\"end_on_time\"] = (data[\"diff_end\"] == 0).astype(np.uint8)\n",
    "    data[\"is_known_Генпроектировщик\"] = data[\"Генпроектировщик\"].isna().astype(np.uint8)\n",
    "    data[\"is_known_Генподрядчик\"] = data[\"Генподрядчик\"].isna().astype(np.uint8)\n",
    "    data[\"is_known_Площадь\"] = data[\"Площадь\"].isna().astype(np.uint8)\n",
    "    data[\"encoded_amount_Площадь\"] = np.digitize(\n",
    "        data[\"Площадь\"],\n",
    "        bins=[\n",
    "            data[\"Площадь\"].quantile(q)\n",
    "            for q in np.arange(0.0, 1.0, 0.1)\n",
    "        ]\n",
    "    )\n",
    "    data[\"is_known_Кол-во рабочих\"] = data[\"Кол-во рабочих\"].isna().astype(np.uint8)\n",
    "    data[\"encoded_amount_Кол-во рабочих\"] = np.digitize(\n",
    "        data[\"Кол-во рабочих\"],\n",
    "        bins=[\n",
    "            data[\"Кол-во рабочих\"].quantile(q)\n",
    "            for q in np.arange(0.0, 1.0, 0.1)\n",
    "        ]\n",
    "    )\n",
    "    data[\"specific_area1\"] = data[\"Площадь\"] / data[\"Кол-во рабочих\"]\n",
    "    data.loc[data['specific_area1'] == np.inf, 'specific_area1'] = 0.0\n",
    "    data[\"specific_area2\"] = data[\"Площадь\"] / data[\"Генподрядчик\"]\n",
    "    data.loc[data['specific_area2'] == np.inf, 'specific_area2'] = 0.0\n",
    "\n",
    "    data[\"speed1\"] = 100 / (data[\"ДатаокончанияБП0\"] - data[\"ДатаначалаБП0\"]).dt.days.fillna(0)\n",
    "    data[\"speed2\"] = 100 / (data[\"ДатаОкончанияЗадачи\"] - data[\"ДатаНачалаЗадачи\"]).dt.days.fillna(0)\n",
    "    data[\"spped3\"] = data[\"ПроцентЗавершенияЗадачи\"] / (data[\"date_report\"] - data[\"ДатаНачалаЗадачи\"]).dt.days.fillna(0)\n",
    "    data[\"reserve\"] = (data[\"ДатаОкончанияЗадачи\"] - data[\"date_report\"]).dt.days\n",
    "    data[\"no_reserve\"] = (data[\"reserve\"] < 0).astype(np.int8)\n",
    "    \n",
    "    data[\"time_task_plan\"] = (((data[\"ДатаокончанияБП0\"] - data[\"ДатаначалаБП0\"]).dt.days).fillna(0)).astype('int')\n",
    "    data[\"time_task_fact\"] = (((data[\"ДатаОкончанияЗадачи\"] - data[\"ДатаНачалаЗадачи\"]).dt.days).fillna(0)).astype('int')\n",
    "    data[\"diff_time_plan_fact\"] = data[\"time_task_fact\"] - data[\"time_task_plan\"]\n",
    "\n",
    "    # Считаем средние значения плана по контракту и сравниваем каждое значение со средним (в срезе по этопу)\n",
    "    avg_time_task_plan = data.groupby([\"Кодзадачи\", \"НазваниеЗадачи\"])[\"time_task_plan\"].mean().reset_index().rename(columns={\"time_task_plan\": \"avg_time_task_plan\"})\n",
    "    data = data.merge(avg_time_task_plan[[\"Кодзадачи\", \"НазваниеЗадачи\", \"avg_time_task_plan\"]], how='left', on=[\"Кодзадачи\", \"НазваниеЗадачи\"])\n",
    "    data[\"diff_avg_time_plan\"] = data[\"time_task_plan\"] - data[\"avg_time_task_plan\"]\n",
    "\n",
    "    # Считаем средние значения факта по контракту и сравниваем каждое значение со средним (в срезе по этопу)\n",
    "    avg_time_task_fact = data.groupby([\"Кодзадачи\", \"НазваниеЗадачи\"])[\"time_task_fact\"].mean().reset_index().rename(columns={\"time_task_fact\": \"avg_time_task_fact\"})\n",
    "    data = data.merge(avg_time_task_fact, how='left', on=[\"Кодзадачи\", \"НазваниеЗадачи\"])\n",
    "    data[\"diff_avg_time_fact\"] = data[\"time_task_fact\"] - data[\"avg_time_task_fact\"]\n",
    "\n",
    "    # Считаем средние значения факта по контракту и сравниваем каждое значение со средним (в срезе по этопу)\n",
    "    avg_time_task_fact = data.groupby([\"Кодзадачи\", \"НазваниеЗадачи\"])[\"diff_time_plan_fact\"].mean().reset_index().rename(columns={\"diff_time_plan_fact\": \"avg_diff_time_plan_fact\"})\n",
    "    data = data.merge(avg_time_task_fact, how='left', on=[\"Кодзадачи\", \"НазваниеЗадачи\"])\n",
    "    data[\"diff_avg_time_plan_fact\"] = data[\"diff_time_plan_fact\"] - data[\"avg_diff_time_plan_fact\"]\n",
    "    \n",
    "    # Нормализация планового времени относительно площади объекта (Сколько заложено времени на такой объем). \n",
    "    # Чем больше проект тем больше надо времени. Если изначально времени выделено меньше, то возможна просрочка. \n",
    "    data[\"time_by_square\"] = (data[\"time_task_fact\"]+1)/(data[\"Площадь\"].fillna(0)+1)\n",
    "    data[\"time_by_worker\"] = (data[\"time_task_fact\"]+1)/(data[\"Кол-во рабочих\"].fillna(0)+1)\n",
    "\n",
    "    # Удаляем временые колонки\n",
    "    data = data.drop(columns=['time_task_plan', 'time_task_fact' ,'avg_time_task_fact', 'avg_time_task_plan', 'diff_time_plan_fact', 'avg_diff_time_plan_fact'])\n",
    "    if historical_data is None:\n",
    "        data[\"просрок\"] = (data.groupby([\"obj_key\", \"Кодзадачи\", \"НазваниеЗадачи\"])[\"ДатаОкончанияЗадачи\"].transform(pd.Series.diff).dt.days)\n",
    "        data['cumsum_просрок'] = data.groupby([\"obj_key\", \"Кодзадачи\", \"НазваниеЗадачи\"])[\"просрок\"].transform(pd.Series.cumsum).fillna(0)\n",
    "    else:\n",
    "        full = pd.concat([data, historical_data]).sort_values([\"obj_key\", \"Кодзадачи\", \"НазваниеЗадачи\",'date_report'])\n",
    "        full[\"просрок\"] = (full.groupby([\"obj_key\", \"Кодзадачи\", \"НазваниеЗадачи\"])[\"ДатаОкончанияЗадачи\"].transform(pd.Series.diff).dt.days).fillna(0)\n",
    "        full['cumsum_просрок'] = full.groupby([\"obj_key\", \"Кодзадачи\", \"НазваниеЗадачи\"])[\"просрок\"].transform(pd.Series.cumsum).fillna(0)\n",
    "        data = full[full.date_report.isin(data.date_report.unique())]\n",
    "#         data = data.merge(full, on=[\"obj_key\", \"Кодзадачи\", \"НазваниеЗадачи\"], how=\"left\")\n",
    "    return data\n"
   ]
  },
  {
   "cell_type": "code",
   "execution_count": 12,
   "id": "581eb229",
   "metadata": {},
   "outputs": [],
   "source": [
    "train_data = add_features(train, attr)\n",
    "test_data = add_features(test, attr, historical_data=train.drop(columns=['target', 'binary_target']))\n",
    "check_data = add_features(check, attr, historical_data=train.drop(columns=['target', 'binary_target']))"
   ]
  },
  {
   "cell_type": "code",
   "execution_count": 13,
   "id": "2bce313b",
   "metadata": {},
   "outputs": [
    {
     "data": {
      "text/plain": [
       "{'binary_target', 'target'}"
      ]
     },
     "execution_count": 13,
     "metadata": {},
     "output_type": "execute_result"
    }
   ],
   "source": [
    "set(train_data.columns) - set(check_data.columns)"
   ]
  },
  {
   "cell_type": "code",
   "execution_count": 14,
   "id": "272f89ae",
   "metadata": {},
   "outputs": [
    {
     "data": {
      "text/plain": [
       "Index(['№ п/п', 'obj_prg', 'obj_subprg', 'obj_key', 'Кодзадачи',\n",
       "       'НазваниеЗадачи', 'ПроцентЗавершенияЗадачи', 'ДатаНачалаЗадачи',\n",
       "       'ДатаОкончанияЗадачи', 'ДатаначалаБП0', 'ДатаокончанияБП0',\n",
       "       'Статуспоэкспертизе', 'Экспертиза', 'date_report', 'target',\n",
       "       'binary_target', 'состояние площадки', 'Площадь', 'Генпроектировщик',\n",
       "       'Генподрядчик', 'Кол-во рабочих', 'diff_start', 'diff_end',\n",
       "       'early_start', 'start_on_time', 'late_end', 'end_on_time',\n",
       "       'is_known_Генпроектировщик', 'is_known_Генподрядчик',\n",
       "       'is_known_Площадь', 'encoded_amount_Площадь', 'is_known_Кол-во рабочих',\n",
       "       'encoded_amount_Кол-во рабочих', 'specific_area1', 'specific_area2',\n",
       "       'speed1', 'speed2', 'spped3', 'reserve', 'no_reserve',\n",
       "       'diff_avg_time_plan', 'diff_avg_time_fact', 'diff_avg_time_plan_fact',\n",
       "       'time_by_square', 'time_by_worker', 'просрок', 'cumsum_просрок'],\n",
       "      dtype='object')"
      ]
     },
     "execution_count": 14,
     "metadata": {},
     "output_type": "execute_result"
    }
   ],
   "source": [
    "train_data.columns"
   ]
  },
  {
   "cell_type": "markdown",
   "id": "3514d6c2",
   "metadata": {},
   "source": [
    "1) разница ДатаначалаБП0 и ДатаНачалаЗадачи\n",
    "2) разница ДатаокончанияБП0 и ДатаОкончанияЗадачи\n",
    "3) начались ли работы раньше срока\n",
    "4) начались ли работы точно в срок\n",
    "5) завершились ли работы позднее обозначенного дедлайна\n",
    "6) завершились ли работы точно в срок\n",
    "7) известен ли генпроектировщик\n",
    "8) один ли генпроектировщик\n",
    "9) известен ли генподрядчик\n",
    "10) отсутствует ли генподрядчик\n",
    "11) более ли одного генподрядчика\n",
    "12) закодированное кол-во генпроектировщиков исходя из децильного распределения\n",
    "13) закодированное кол-во генподрядчиков исходя из децильного распределения\n",
    "14) известна ли площадь\n",
    "15) закодированная площадь исходя из децильного распределения\n",
    "16) известно ли кол-во работников\n",
    "17) закодированное кол-во работников исходя из децильного распределения\n",
    "18) дамми фичи по состоянию площадки (+5)\n",
    "23) удельная площадь 1 - площадь, покрываемая одним работников\n",
    "24) удельная площадь 2 - площадь, покрываемая одним генподрядчиков\n",
    "25) процент выполнения задачи в день (от момента текущего репорта до следующего, т.е. скорость выполнения задачи)"
   ]
  },
  {
   "cell_type": "markdown",
   "id": "5fa401e2",
   "metadata": {
    "id": "gEAmWtDg2bMv"
   },
   "source": [
    "## 1. Task definition"
   ]
  },
  {
   "cell_type": "markdown",
   "id": "02f3729b",
   "metadata": {
    "id": "-LZ_G0yZ2bMv"
   },
   "source": [
    "### 1.1. Task type"
   ]
  },
  {
   "cell_type": "markdown",
   "id": "2c3410a9",
   "metadata": {
    "id": "gArSerOi2bMv"
   },
   "source": [
    "First we need to create ```Task``` object - the class to setup what task LightAutoML model should solve with specific loss and metric if necessary (more info can be found [here](https://lightautoml.readthedocs.io/en/latest/pages/modules/generated/lightautoml.tasks.base.Task.html#lightautoml.tasks.base.Task) in our documentation).\n",
    "\n",
    "The following task types are available:\n",
    "\n",
    "- ```'binary'``` - for binary classification.\n",
    "\n",
    "- ```'reg’``` - for regression.\n",
    "\n",
    "- ```‘multiclass’``` - for multiclass classification.\n",
    "\n",
    "- ```'multi:reg``` - for multiple regression.\n",
    "\n",
    "- ```'multilabel'``` - for multi-label classification.\n",
    "\n",
    "In this example we will consider a binary classification:"
   ]
  },
  {
   "cell_type": "code",
   "execution_count": 13,
   "id": "b43ddddb",
   "metadata": {
    "id": "ljLp51Tm2bMv"
   },
   "outputs": [],
   "source": [
    "task = Task('binary')"
   ]
  },
  {
   "cell_type": "markdown",
   "id": "d0cc8a42",
   "metadata": {},
   "source": [
    "Note: only logloss loss is available for binary task and it is the default loss. Default metric for binary classification is ROC-AUC. See more info about available and default losses and metrics [here](https://lightautoml.readthedocs.io/en/latest/pages/modules/generated/lightautoml.tasks.base.Task.html#lightautoml.tasks.base.Task). \n",
    "\n",
    "**Depending on the task, you can and shold choose exactly those metrics and losses that you want and need to optimize.**"
   ]
  },
  {
   "cell_type": "markdown",
   "id": "d441fb19",
   "metadata": {
    "id": "mb2ublt12bMw"
   },
   "source": [
    "### 1.2. Feature roles setup"
   ]
  },
  {
   "cell_type": "markdown",
   "id": "5d0aefbb",
   "metadata": {
    "id": "yogz64NJ2bMw"
   },
   "source": [
    "To solve the task, we need to setup columns roles. LightAutoML can automatically define types and roles of data columns, but it is possible to specify it directly through the dictionary parameter ```roles``` when training AutoML model (see next section \"AutoML training\"). Specific roles can be specified using a string with the name (any role can be set like this).  So the key in dictionary must be the name of the role, the value must be a list of the names of the corresponding columns in dataset. The **only role you must setup is** ```'target'``` **role** (that is column with target variable obviously), everything else (```'drop', 'numeric', 'categorical', 'group', 'weights'``` etc) is up to user:"
   ]
  },
  {
   "cell_type": "code",
   "execution_count": 14,
   "id": "a70820c3",
   "metadata": {
    "id": "iBbbfHXx2bMw"
   },
   "outputs": [],
   "source": [
    "roles = {\n",
    "    'target': 'binary_target',\n",
    "    'drop': [ 'target'],\n",
    "    'datetime': [\"ДатаНачалаЗадачи\",'ДатаОкончанияЗадачи', \"ДатаначалаБП0\", \"ДатаокончанияБП0\", \"date_report\"],\n",
    "}"
   ]
  },
  {
   "cell_type": "markdown",
   "id": "27c4ec6d",
   "metadata": {
    "id": "nxIZzoMKq3tN"
   },
   "source": [
    "You can also optionally specify the following roles:\n",
    "\n",
    "- ```'numeric'``` - numerical feature\n",
    "\n",
    "- ```'category'``` - categorical feature\n",
    "\n",
    "- ```'text'``` - text data\n",
    "\n",
    "- ```'datetime'``` - features with date and time \n",
    "\n",
    "- ```'date'``` - features with date only\n",
    "\n",
    "- ```'group'``` - features by which the data can be divided into groups and which can be taken into account for group k-fold validation (so the same group is not represented in both testing and training sets)\n",
    "\n",
    "- ```'drop'``` - features to drop, they will not be used in model building\n",
    "\n",
    "- ```'weights'``` - object weights for the loss and metric\n",
    "\n",
    "- ```'path'``` - image file paths (for CV tasks)\n",
    "\n",
    "- ```'treatment'``` - object group in uplift modelling tasks: treatment or control\n",
    "\n",
    "Note: role name can be written in any case. Also it is possible to pass individual objects of role classes with specific arguments instead of strings with role names for specific tasks and more optimal pipeline construction ([more details](https://github.com/sb-ai-lab/LightAutoML/blob/master/lightautoml/dataset/roles.py)).\n",
    "\n",
    "For example, to set the date role, you can use the ```DatetimeRole``` class. "
   ]
  },
  {
   "cell_type": "markdown",
   "id": "012035d1",
   "metadata": {
    "id": "Zqg46R382bMw"
   },
   "source": [
    "### 1.3. LightAutoML model creation - TabularAutoML preset"
   ]
  },
  {
   "cell_type": "code",
   "execution_count": 15,
   "id": "fec97bbe",
   "metadata": {
    "id": "esKtHlS42bMx"
   },
   "outputs": [],
   "source": [
    "automl = TabularAutoML(\n",
    "    task = task, \n",
    "    timeout = TIMEOUT,\n",
    "    cpu_limit = N_THREADS+2,\n",
    "    general_params = {\"use_algos\": [['lgb']]},\n",
    "    reader_params = {'n_jobs': N_THREADS+2, 'cv': N_FOLDS, 'random_state': RANDOM_STATE},\n",
    ")"
   ]
  },
  {
   "cell_type": "markdown",
   "id": "5c04b741",
   "metadata": {
    "id": "ulCiP64T2bMx"
   },
   "source": [
    "## 2. Classification"
   ]
  },
  {
   "cell_type": "markdown",
   "id": "1eb29e18",
   "metadata": {
    "id": "D7f8QUfX2bMy"
   },
   "source": [
    "To run autoML training use ```fit_predict``` method. \n",
    "\n",
    "Main arguments:\n",
    "\n",
    "- `train_data` - dataset to train.\n",
    "- `roles` - column roles dict.\n",
    "- `verbose` - controls the verbosity: the higher, the more messages:\n",
    "        <1  : messages are not displayed;\n",
    "        >=1 : the computation process for layers is displayed;\n",
    "        >=2 : the information about folds processing is also displayed;\n",
    "        >=3 : the hyperparameters optimization process is also displayed;\n",
    "        >=4 : the training process for every algorithm is displayed;\n",
    "\n",
    "Note: out-of-fold prediction is calculated during training and returned from the fit_predict method"
   ]
  },
  {
   "cell_type": "code",
   "execution_count": 16,
   "id": "faab972e",
   "metadata": {
    "colab": {
     "base_uri": "https://localhost:8080/"
    },
    "id": "9yfUPNED2bMy",
    "outputId": "acbc6d4a-ac4f-4a3d-ba60-9d772d1e8101",
    "scrolled": true
   },
   "outputs": [
    {
     "name": "stdout",
     "output_type": "stream",
     "text": [
      "[08:40:33] Stdout logging level is DEBUG.\n",
      "[08:40:33] Copying TaskTimer may affect the parent PipelineTimer, so copy will create new unlimited TaskTimer\n",
      "[08:40:33] Task: binary\n",
      "\n",
      "[08:40:33] Start automl preset with listed constraints:\n",
      "[08:40:33] - time: 3000.00 seconds\n",
      "[08:40:33] - CPU: 6 cores\n",
      "[08:40:33] - memory: 16 GB\n",
      "\n",
      "[08:40:33] \u001b[1mTrain data shape: (479083, 47)\u001b[0m\n",
      "\n",
      "[08:40:42] Feats was rejected during automatic roles guess: []\n",
      "[08:40:42] Layer \u001b[1m1\u001b[0m train process start. Time left 2991.72 secs\n",
      "[08:40:44] Training until validation scores don't improve for 100 rounds\n",
      "[08:40:47] [100]\tvalid's auc: 0.994779\n",
      "[08:40:50] [200]\tvalid's auc: 0.996364\n",
      "[08:40:54] [300]\tvalid's auc: 0.996902\n",
      "[08:40:58] [400]\tvalid's auc: 0.997119\n",
      "[08:41:01] [500]\tvalid's auc: 0.997253\n",
      "[08:41:05] [600]\tvalid's auc: 0.997317\n",
      "[08:41:08] [700]\tvalid's auc: 0.997367\n",
      "[08:41:12] [800]\tvalid's auc: 0.997412\n",
      "[08:41:15] [900]\tvalid's auc: 0.997432\n",
      "[08:41:19] [1000]\tvalid's auc: 0.99746\n",
      "[08:41:23] [1100]\tvalid's auc: 0.997457\n",
      "[08:41:23] Early stopping, best iteration is:\n",
      "[1019]\tvalid's auc: 0.997468\n",
      "[08:41:29] \u001b[1mSelector_LightGBM\u001b[0m fitting and predicting completed\n",
      "[08:42:06] Start fitting \u001b[1mLvl_0_Pipe_0_Mod_0_LightGBM\u001b[0m ...\n",
      "[08:42:06] Training params: {'task': 'train', 'learning_rate': 0.05, 'num_leaves': 244, 'feature_fraction': 0.7, 'bagging_fraction': 0.7, 'bagging_freq': 1, 'max_depth': -1, 'verbosity': -1, 'reg_alpha': 1, 'reg_lambda': 0.0, 'min_split_gain': 0.0, 'zero_as_missing': False, 'num_threads': 6, 'max_bin': 255, 'min_data_in_bin': 3, 'num_trees': 2000, 'early_stopping_rounds': 100, 'random_state': 42}\n",
      "[08:42:06] ===== Start working with \u001b[1mfold 0\u001b[0m for \u001b[1mLvl_0_Pipe_0_Mod_0_LightGBM\u001b[0m =====\n",
      "[08:42:07] Training until validation scores don't improve for 100 rounds\n",
      "[08:42:12] [100]\tvalid's auc: 0.992875\n",
      "[08:42:16] [200]\tvalid's auc: 0.994459\n",
      "[08:42:21] [300]\tvalid's auc: 0.995094\n",
      "[08:42:26] [400]\tvalid's auc: 0.995382\n",
      "[08:42:32] [500]\tvalid's auc: 0.995547\n",
      "[08:42:35] [600]\tvalid's auc: 0.995686\n",
      "[08:42:39] [700]\tvalid's auc: 0.995773\n",
      "[08:42:45] [800]\tvalid's auc: 0.995815\n",
      "[08:42:50] [900]\tvalid's auc: 0.995825\n",
      "[08:42:57] [1000]\tvalid's auc: 0.995846\n",
      "[08:43:01] [1100]\tvalid's auc: 0.99586\n",
      "[08:43:05] [1200]\tvalid's auc: 0.995865\n",
      "[08:43:09] [1300]\tvalid's auc: 0.995874\n",
      "[08:43:12] [1400]\tvalid's auc: 0.995882\n",
      "[08:43:16] [1500]\tvalid's auc: 0.995887\n",
      "[08:43:21] [1600]\tvalid's auc: 0.995887\n",
      "[08:43:24] Early stopping, best iteration is:\n",
      "[1567]\tvalid's auc: 0.99589\n",
      "[08:43:34] ===== Start working with \u001b[1mfold 1\u001b[0m for \u001b[1mLvl_0_Pipe_0_Mod_0_LightGBM\u001b[0m =====\n",
      "[08:43:35] Training until validation scores don't improve for 100 rounds\n",
      "[08:43:38] [100]\tvalid's auc: 0.992264\n",
      "[08:43:42] [200]\tvalid's auc: 0.993864\n",
      "[08:43:46] [300]\tvalid's auc: 0.99451\n",
      "[08:43:51] [400]\tvalid's auc: 0.994845\n",
      "[08:43:55] [500]\tvalid's auc: 0.995056\n",
      "[08:43:59] [600]\tvalid's auc: 0.995178\n",
      "[08:44:04] [700]\tvalid's auc: 0.995273\n",
      "[08:44:07] [800]\tvalid's auc: 0.995358\n",
      "[08:44:11] [900]\tvalid's auc: 0.995419\n",
      "[08:44:16] [1000]\tvalid's auc: 0.995456\n",
      "[08:44:21] [1100]\tvalid's auc: 0.995478\n",
      "[08:44:26] [1200]\tvalid's auc: 0.995487\n",
      "[08:44:29] [1300]\tvalid's auc: 0.995498\n",
      "[08:44:33] [1400]\tvalid's auc: 0.995519\n",
      "[08:44:37] [1500]\tvalid's auc: 0.995519\n",
      "[08:44:39] Early stopping, best iteration is:\n",
      "[1462]\tvalid's auc: 0.995525\n",
      "[08:44:46] ===== Start working with \u001b[1mfold 2\u001b[0m for \u001b[1mLvl_0_Pipe_0_Mod_0_LightGBM\u001b[0m =====\n",
      "[08:44:47] Training until validation scores don't improve for 100 rounds\n",
      "[08:44:51] [100]\tvalid's auc: 0.993085\n",
      "[08:44:55] [200]\tvalid's auc: 0.994502\n",
      "[08:44:59] [300]\tvalid's auc: 0.995095\n",
      "[08:45:05] [400]\tvalid's auc: 0.995389\n",
      "[08:45:10] [500]\tvalid's auc: 0.995571\n",
      "[08:45:14] [600]\tvalid's auc: 0.995673\n",
      "[08:45:18] [700]\tvalid's auc: 0.995741\n",
      "[08:45:22] [800]\tvalid's auc: 0.995793\n",
      "[08:45:26] [900]\tvalid's auc: 0.99582\n",
      "[08:45:31] [1000]\tvalid's auc: 0.995854\n",
      "[08:45:35] [1100]\tvalid's auc: 0.995854\n",
      "[08:45:38] [1200]\tvalid's auc: 0.995865\n",
      "[08:45:43] [1300]\tvalid's auc: 0.995862\n",
      "[08:45:44] Early stopping, best iteration is:\n",
      "[1218]\tvalid's auc: 0.995868\n",
      "[08:45:49] ===== Start working with \u001b[1mfold 3\u001b[0m for \u001b[1mLvl_0_Pipe_0_Mod_0_LightGBM\u001b[0m =====\n",
      "[08:45:50] Training until validation scores don't improve for 100 rounds\n",
      "[08:45:54] [100]\tvalid's auc: 0.992761\n",
      "[08:45:59] [200]\tvalid's auc: 0.994273\n",
      "[08:46:03] [300]\tvalid's auc: 0.994833\n",
      "[08:46:08] [400]\tvalid's auc: 0.995178\n",
      "[08:46:13] [500]\tvalid's auc: 0.99538\n",
      "[08:46:17] [600]\tvalid's auc: 0.995493\n",
      "[08:46:21] [700]\tvalid's auc: 0.995587\n",
      "[08:46:25] [800]\tvalid's auc: 0.995651\n",
      "[08:46:29] [900]\tvalid's auc: 0.995692\n",
      "[08:46:33] [1000]\tvalid's auc: 0.995717\n",
      "[08:46:37] [1100]\tvalid's auc: 0.995732\n",
      "[08:46:41] [1200]\tvalid's auc: 0.995754\n",
      "[08:46:44] [1300]\tvalid's auc: 0.99577\n",
      "[08:46:50] [1400]\tvalid's auc: 0.995781\n",
      "[08:46:54] [1500]\tvalid's auc: 0.995787\n",
      "[08:46:59] [1600]\tvalid's auc: 0.995786\n",
      "[08:47:04] [1700]\tvalid's auc: 0.995794\n",
      "[08:47:09] [1800]\tvalid's auc: 0.995795\n",
      "[08:47:13] [1900]\tvalid's auc: 0.9958\n",
      "[08:47:16] [2000]\tvalid's auc: 0.995805\n",
      "[08:47:16] Did not meet early stopping. Best iteration is:\n",
      "[1981]\tvalid's auc: 0.995809\n",
      "[08:47:28] ===== Start working with \u001b[1mfold 4\u001b[0m for \u001b[1mLvl_0_Pipe_0_Mod_0_LightGBM\u001b[0m =====\n",
      "[08:47:29] Training until validation scores don't improve for 100 rounds\n",
      "[08:47:33] [100]\tvalid's auc: 0.992853\n",
      "[08:47:38] [200]\tvalid's auc: 0.994412\n",
      "[08:47:42] [300]\tvalid's auc: 0.994935\n",
      "[08:47:47] [400]\tvalid's auc: 0.99529\n",
      "[08:47:52] [500]\tvalid's auc: 0.99544\n",
      "[08:47:57] [600]\tvalid's auc: 0.995566\n",
      "[08:48:02] [700]\tvalid's auc: 0.995633\n",
      "[08:48:06] [800]\tvalid's auc: 0.995684\n",
      "[08:48:11] [900]\tvalid's auc: 0.995715\n",
      "[08:48:15] [1000]\tvalid's auc: 0.995725\n",
      "[08:48:17] Early stopping, best iteration is:\n",
      "[952]\tvalid's auc: 0.99573\n",
      "[08:48:21] Fitting \u001b[1mLvl_0_Pipe_0_Mod_0_LightGBM\u001b[0m finished. score = \u001b[1m0.9957111698995819\u001b[0m\n",
      "[08:48:21] \u001b[1mLvl_0_Pipe_0_Mod_0_LightGBM\u001b[0m fitting and predicting completed\n",
      "[08:48:21] Time left 2532.36 secs\n",
      "\n",
      "[08:48:21] \u001b[1mLayer 1 training completed.\u001b[0m\n",
      "\n",
      "[08:48:21] \u001b[1mAutoml preset training completed in 467.66 seconds\u001b[0m\n",
      "\n",
      "[08:48:21] Model description:\n",
      "Final prediction for new objects (level 0) = \n",
      "\t 1.00000 * (5 averaged models Lvl_0_Pipe_0_Mod_0_LightGBM) \n",
      "\n",
      "CPU times: total: 31min 12s\n",
      "Wall time: 7min 47s\n"
     ]
    }
   ],
   "source": [
    "%%time\n",
    "out_of_fold_predictions = automl.fit_predict(train_data, roles = roles, verbose = 4)"
   ]
  },
  {
   "cell_type": "code",
   "execution_count": 19,
   "id": "a3d879a9",
   "metadata": {},
   "outputs": [
    {
     "name": "stdout",
     "output_type": "stream",
     "text": [
      "0.99530511297723\n",
      "              precision    recall  f1-score   support\n",
      "\n",
      "           0       1.00      0.94      0.97    329776\n",
      "           1       0.60      0.99      0.74     30372\n",
      "\n",
      "    accuracy                           0.94    360148\n",
      "   macro avg       0.80      0.96      0.86    360148\n",
      "weighted avg       0.96      0.94      0.95    360148\n",
      "\n"
     ]
    }
   ],
   "source": [
    "print(roc_auc_score(train_data['binary_target'], out_of_fold_predictions.data[:,0]))\n",
    "print(classification_report(train_data['binary_target'], out_of_fold_predictions.data[:,0]>0.01))"
   ]
  },
  {
   "cell_type": "code",
   "execution_count": 22,
   "id": "c9551a59",
   "metadata": {},
   "outputs": [
    {
     "name": "stdout",
     "output_type": "stream",
     "text": [
      "0.971191049328297\n",
      "              precision    recall  f1-score   support\n",
      "\n",
      "         0.0       0.99      0.92      0.95     26802\n",
      "         1.0       0.56      0.91      0.69      3051\n",
      "\n",
      "    accuracy                           0.92     29853\n",
      "   macro avg       0.78      0.91      0.82     29853\n",
      "weighted avg       0.95      0.92      0.93     29853\n",
      "\n"
     ]
    }
   ],
   "source": [
    "test_pred = automl.predict(test_data).data[:,0]\n",
    "print(roc_auc_score(test_data['binary_target'], test_pred))\n",
    "print(classification_report(test_data['binary_target'], test_pred>0.01))"
   ]
  },
  {
   "cell_type": "code",
   "execution_count": 17,
   "id": "0f0fe460",
   "metadata": {},
   "outputs": [],
   "source": [
    "import pickle\n",
    "with open('classifier.pkl', 'wb') as handle:\n",
    "    pickle.dump(automl, handle)"
   ]
  },
  {
   "cell_type": "code",
   "execution_count": 19,
   "id": "6676fab4",
   "metadata": {},
   "outputs": [],
   "source": [
    "with open('classifier.pkl', 'rb') as handle:\n",
    "    model = pickle.load(handle)"
   ]
  },
  {
   "cell_type": "code",
   "execution_count": 20,
   "id": "1e3ec837",
   "metadata": {},
   "outputs": [],
   "source": [
    "test_pred = model.predict(test_data).data[:,0]\n",
    "check_pred = model.predict(check_data).data[:,0]"
   ]
  },
  {
   "cell_type": "markdown",
   "id": "da449a1c",
   "metadata": {},
   "source": []
  },
  {
   "cell_type": "markdown",
   "id": "296ede8d",
   "metadata": {
    "id": "7s_lWli8zEKO"
   },
   "source": [
    "After training we can see logs with all the progress, final scores, weights assigned to the models in the final prediction etc.\n",
    "\n",
    "Note that in this `fit_predict` you receive the model with only 3 out of 5 LightGBM models (you can see that from the log line in the end `0.25685 * (3 averaged models Lvl_0_Pipe_1_Mod_0_LightGBM)`) - to fix it you can set the bigger timeout to make LightAutoML train all the models."
   ]
  },
  {
   "cell_type": "markdown",
   "id": "0b133637",
   "metadata": {
    "id": "M2vioghx2bMz"
   },
   "source": [
    "## 3. Regression"
   ]
  },
  {
   "cell_type": "code",
   "execution_count": 21,
   "id": "2b2c0f94",
   "metadata": {},
   "outputs": [],
   "source": [
    "task = Task('reg', loss='mae', metric='mae')\n",
    "roles = {\n",
    "    'target': 'target',\n",
    "    'drop': ['binary_target'],\n",
    "    'datetime': [\"ДатаНачалаЗадачи\",'ДатаОкончанияЗадачи', \"ДатаначалаБП0\", \"ДатаокончанияБП0\", \"date_report\"],\n",
    "}"
   ]
  },
  {
   "cell_type": "code",
   "execution_count": 22,
   "id": "9cd24098",
   "metadata": {},
   "outputs": [],
   "source": [
    "automl = TabularAutoML(\n",
    "    task = task, \n",
    "    timeout = TIMEOUT * 10,\n",
    "    cpu_limit = N_THREADS+2,\n",
    "    general_params = {\"use_algos\": [['lgb','cb']]},\n",
    "    reader_params = {'n_jobs': N_THREADS+2, 'cv': N_FOLDS, 'random_state': RANDOM_STATE},\n",
    ")"
   ]
  },
  {
   "cell_type": "code",
   "execution_count": 23,
   "id": "7c94cba1",
   "metadata": {
    "scrolled": true
   },
   "outputs": [
    {
     "name": "stdout",
     "output_type": "stream",
     "text": [
      "[08:50:07] Stdout logging level is DEBUG.\n",
      "[08:50:07] Task: reg\n",
      "\n",
      "[08:50:07] Start automl preset with listed constraints:\n",
      "[08:50:07] - time: 30000.00 seconds\n",
      "[08:50:07] - CPU: 6 cores\n",
      "[08:50:07] - memory: 16 GB\n",
      "\n",
      "[08:50:07] \u001b[1mTrain data shape: (40917, 48)\u001b[0m\n",
      "\n",
      "[08:50:13] Feats was rejected during automatic roles guess: []\n",
      "[08:50:13] Layer \u001b[1m1\u001b[0m train process start. Time left 29994.31 secs\n",
      "[08:50:13] Training until validation scores don't improve for 200 rounds\n",
      "[08:50:14] [100]\tvalid's l1: 15.6463\n",
      "[08:50:14] [200]\tvalid's l1: 13.1984\n",
      "[08:50:14] [300]\tvalid's l1: 11.9365\n",
      "[08:50:15] [400]\tvalid's l1: 11.3192\n",
      "[08:50:15] [500]\tvalid's l1: 10.8776\n",
      "[08:50:15] [600]\tvalid's l1: 10.4852\n",
      "[08:50:16] [700]\tvalid's l1: 10.1474\n",
      "[08:50:16] [800]\tvalid's l1: 9.88724\n",
      "[08:50:16] [900]\tvalid's l1: 9.66502\n",
      "[08:50:17] [1000]\tvalid's l1: 9.4438\n",
      "[08:50:17] [1100]\tvalid's l1: 9.19582\n",
      "[08:50:17] [1200]\tvalid's l1: 8.99743\n",
      "[08:50:17] Did not meet early stopping. Best iteration is:\n",
      "[1200]\tvalid's l1: 8.99743\n",
      "[08:50:18] \u001b[1mSelector_LightGBM\u001b[0m fitting and predicting completed\n",
      "[08:50:21] Start fitting \u001b[1mLvl_0_Pipe_0_Mod_0_LightGBM\u001b[0m ...\n",
      "[08:50:21] Training params: {'task': 'train', 'learning_rate': 0.03, 'num_leaves': 32, 'feature_fraction': 0.9, 'bagging_fraction': 0.9, 'bagging_freq': 1, 'max_depth': -1, 'verbosity': -1, 'reg_alpha': 0.5, 'reg_lambda': 0.0, 'min_split_gain': 0.0, 'zero_as_missing': False, 'num_threads': 6, 'max_bin': 255, 'min_data_in_bin': 3, 'num_trees': 1200, 'early_stopping_rounds': 200, 'random_state': 42}\n",
      "[08:50:21] ===== Start working with \u001b[1mfold 0\u001b[0m for \u001b[1mLvl_0_Pipe_0_Mod_0_LightGBM\u001b[0m =====\n",
      "[08:50:21] Training until validation scores don't improve for 200 rounds\n",
      "[08:50:22] [100]\tvalid's l1: 12.0894\n",
      "[08:50:22] [200]\tvalid's l1: 10.2491\n",
      "[08:50:23] [300]\tvalid's l1: 9.7046\n",
      "[08:50:23] [400]\tvalid's l1: 9.34352\n",
      "[08:50:24] [500]\tvalid's l1: 9.10773\n",
      "[08:50:24] [600]\tvalid's l1: 8.84018\n",
      "[08:50:24] [700]\tvalid's l1: 8.69996\n",
      "[08:50:25] [800]\tvalid's l1: 8.51674\n",
      "[08:50:25] [900]\tvalid's l1: 8.41425\n",
      "[08:50:26] [1000]\tvalid's l1: 8.3252\n",
      "[08:50:26] [1100]\tvalid's l1: 8.22765\n",
      "[08:50:26] [1200]\tvalid's l1: 8.11866\n",
      "[08:50:26] Did not meet early stopping. Best iteration is:\n",
      "[1200]\tvalid's l1: 8.11866\n",
      "[08:50:27] ===== Start working with \u001b[1mfold 1\u001b[0m for \u001b[1mLvl_0_Pipe_0_Mod_0_LightGBM\u001b[0m =====\n",
      "[08:50:27] Training until validation scores don't improve for 200 rounds\n",
      "[08:50:27] [100]\tvalid's l1: 11.5856\n",
      "[08:50:28] [200]\tvalid's l1: 9.75111\n",
      "[08:50:28] [300]\tvalid's l1: 9.14062\n",
      "[08:50:29] [400]\tvalid's l1: 8.81509\n",
      "[08:50:29] [500]\tvalid's l1: 8.5474\n",
      "[08:50:29] [600]\tvalid's l1: 8.33436\n",
      "[08:50:30] [700]\tvalid's l1: 8.1247\n",
      "[08:50:30] [800]\tvalid's l1: 7.99175\n",
      "[08:50:31] [900]\tvalid's l1: 7.85791\n",
      "[08:50:31] [1000]\tvalid's l1: 7.73822\n",
      "[08:50:31] [1100]\tvalid's l1: 7.62821\n",
      "[08:50:32] [1200]\tvalid's l1: 7.54236\n",
      "[08:50:32] Did not meet early stopping. Best iteration is:\n",
      "[1200]\tvalid's l1: 7.54236\n",
      "[08:50:32] ===== Start working with \u001b[1mfold 2\u001b[0m for \u001b[1mLvl_0_Pipe_0_Mod_0_LightGBM\u001b[0m =====\n",
      "[08:50:32] Training until validation scores don't improve for 200 rounds\n",
      "[08:50:33] [100]\tvalid's l1: 11.8581\n",
      "[08:50:33] [200]\tvalid's l1: 9.89525\n",
      "[08:50:34] [300]\tvalid's l1: 9.41112\n",
      "[08:50:34] [400]\tvalid's l1: 9.22534\n",
      "[08:50:35] [500]\tvalid's l1: 9.14559\n",
      "[08:50:35] [600]\tvalid's l1: 8.93329\n",
      "[08:50:36] [700]\tvalid's l1: 8.81793\n",
      "[08:50:37] [800]\tvalid's l1: 8.68861\n",
      "[08:50:37] [900]\tvalid's l1: 8.55476\n",
      "[08:50:38] [1000]\tvalid's l1: 8.44966\n",
      "[08:50:38] [1100]\tvalid's l1: 8.36657\n",
      "[08:50:39] [1200]\tvalid's l1: 8.28339\n",
      "[08:50:39] Did not meet early stopping. Best iteration is:\n",
      "[1200]\tvalid's l1: 8.28339\n",
      "[08:50:39] ===== Start working with \u001b[1mfold 3\u001b[0m for \u001b[1mLvl_0_Pipe_0_Mod_0_LightGBM\u001b[0m =====\n",
      "[08:50:39] Training until validation scores don't improve for 200 rounds\n",
      "[08:50:40] [100]\tvalid's l1: 11.9397\n",
      "[08:50:40] [200]\tvalid's l1: 10.3442\n",
      "[08:50:41] [300]\tvalid's l1: 10.0153\n",
      "[08:50:41] [400]\tvalid's l1: 9.71105\n",
      "[08:50:42] [500]\tvalid's l1: 9.48902\n",
      "[08:50:42] [600]\tvalid's l1: 9.31919\n",
      "[08:50:43] [700]\tvalid's l1: 9.12725\n",
      "[08:50:43] [800]\tvalid's l1: 8.95114\n",
      "[08:50:44] [900]\tvalid's l1: 8.81598\n",
      "[08:50:44] [1000]\tvalid's l1: 8.72635\n",
      "[08:50:45] [1100]\tvalid's l1: 8.64076\n",
      "[08:50:45] [1200]\tvalid's l1: 8.55228\n",
      "[08:50:45] Did not meet early stopping. Best iteration is:\n",
      "[1200]\tvalid's l1: 8.55228\n",
      "[08:50:45] ===== Start working with \u001b[1mfold 4\u001b[0m for \u001b[1mLvl_0_Pipe_0_Mod_0_LightGBM\u001b[0m =====\n",
      "[08:50:45] Training until validation scores don't improve for 200 rounds\n",
      "[08:50:46] [100]\tvalid's l1: 12.0297\n",
      "[08:50:47] [200]\tvalid's l1: 9.98742\n",
      "[08:50:47] [300]\tvalid's l1: 9.40743\n",
      "[08:50:47] [400]\tvalid's l1: 9.10831\n",
      "[08:50:48] [500]\tvalid's l1: 8.80478\n",
      "[08:50:48] [600]\tvalid's l1: 8.61706\n",
      "[08:50:49] [700]\tvalid's l1: 8.4697\n",
      "[08:50:49] [800]\tvalid's l1: 8.30706\n",
      "[08:50:50] [900]\tvalid's l1: 8.15312\n",
      "[08:50:50] [1000]\tvalid's l1: 8.02802\n",
      "[08:50:50] [1100]\tvalid's l1: 7.94464\n",
      "[08:50:51] [1200]\tvalid's l1: 7.85253\n",
      "[08:50:51] Did not meet early stopping. Best iteration is:\n",
      "[1200]\tvalid's l1: 7.85253\n",
      "[08:50:51] Fitting \u001b[1mLvl_0_Pipe_0_Mod_0_LightGBM\u001b[0m finished. score = \u001b[1m-8.06983137339915\u001b[0m\n",
      "[08:50:51] \u001b[1mLvl_0_Pipe_0_Mod_0_LightGBM\u001b[0m fitting and predicting completed\n",
      "[08:50:51] Start fitting \u001b[1mLvl_0_Pipe_0_Mod_1_CatBoost\u001b[0m ...\n",
      "[08:50:51] Training params: {'task_type': 'CPU', 'thread_count': 6, 'random_seed': 42, 'num_trees': 2000, 'learning_rate': 0.05, 'l2_leaf_reg': 0.01, 'bootstrap_type': 'Bernoulli', 'grow_policy': 'SymmetricTree', 'max_depth': 5, 'min_data_in_leaf': 1, 'one_hot_max_size': 10, 'fold_permutation_block': 1, 'boosting_type': 'Plain', 'boost_from_average': True, 'od_type': 'Iter', 'od_wait': 300, 'max_bin': 32, 'feature_border_type': 'GreedyLogSum', 'nan_mode': 'Min', 'verbose': 100, 'allow_writing_files': False}\n",
      "[08:50:51] ===== Start working with \u001b[1mfold 0\u001b[0m for \u001b[1mLvl_0_Pipe_0_Mod_1_CatBoost\u001b[0m =====\n",
      "[08:50:51] 0:\tlearn: 29.9756657\ttest: 28.9172521\tbest: 28.9172521 (0)\ttotal: 144ms\tremaining: 4m 47s\n",
      "[08:50:52] 100:\tlearn: 14.1857183\ttest: 14.7497564\tbest: 14.7497564 (100)\ttotal: 613ms\tremaining: 11.5s\n",
      "[08:50:52] 200:\tlearn: 12.5541568\ttest: 13.3206828\tbest: 13.3206828 (200)\ttotal: 1.11s\tremaining: 9.98s\n",
      "[08:50:53] 300:\tlearn: 11.7960470\ttest: 12.6226671\tbest: 12.6226671 (300)\ttotal: 1.56s\tremaining: 8.83s\n",
      "[08:50:53] 400:\tlearn: 11.1625388\ttest: 12.0161105\tbest: 12.0161105 (400)\ttotal: 2.03s\tremaining: 8.11s\n",
      "[08:50:54] 500:\tlearn: 10.7210812\ttest: 11.6195213\tbest: 11.6195213 (500)\ttotal: 2.5s\tremaining: 7.48s\n",
      "[08:50:54] 600:\tlearn: 10.2420368\ttest: 11.1809534\tbest: 11.1809534 (600)\ttotal: 3s\tremaining: 6.98s\n",
      "[08:50:55] 700:\tlearn: 9.9754172\ttest: 10.9711731\tbest: 10.9711731 (700)\ttotal: 3.48s\tremaining: 6.45s\n",
      "[08:50:55] 800:\tlearn: 9.7086780\ttest: 10.7827346\tbest: 10.7827346 (800)\ttotal: 3.98s\tremaining: 5.96s\n",
      "[08:50:56] 900:\tlearn: 9.4694744\ttest: 10.6464145\tbest: 10.6464145 (900)\ttotal: 4.47s\tremaining: 5.46s\n",
      "[08:50:56] 1000:\tlearn: 9.2439276\ttest: 10.4841241\tbest: 10.4841241 (1000)\ttotal: 4.96s\tremaining: 4.95s\n",
      "[08:50:57] 1100:\tlearn: 9.0591057\ttest: 10.3533238\tbest: 10.3533238 (1100)\ttotal: 5.46s\tremaining: 4.46s\n",
      "[08:50:57] 1200:\tlearn: 8.8997210\ttest: 10.2604636\tbest: 10.2604636 (1200)\ttotal: 5.96s\tremaining: 3.96s\n",
      "[08:50:58] 1300:\tlearn: 8.7239337\ttest: 10.1393951\tbest: 10.1393951 (1300)\ttotal: 6.43s\tremaining: 3.46s\n",
      "[08:50:58] 1400:\tlearn: 8.5528071\ttest: 10.0228617\tbest: 10.0228617 (1400)\ttotal: 6.9s\tremaining: 2.95s\n",
      "[08:50:59] 1500:\tlearn: 8.4206986\ttest: 9.9370741\tbest: 9.9370741 (1500)\ttotal: 7.4s\tremaining: 2.46s\n",
      "[08:50:59] 1600:\tlearn: 8.3212841\ttest: 9.8687749\tbest: 9.8687749 (1600)\ttotal: 7.91s\tremaining: 1.97s\n",
      "[08:51:00] 1700:\tlearn: 8.2199490\ttest: 9.7973033\tbest: 9.7973033 (1700)\ttotal: 8.39s\tremaining: 1.48s\n",
      "[08:51:00] 1800:\tlearn: 8.1034527\ttest: 9.7087425\tbest: 9.7087425 (1800)\ttotal: 8.91s\tremaining: 985ms\n",
      "[08:51:01] 1900:\tlearn: 8.0121465\ttest: 9.6487264\tbest: 9.6487264 (1900)\ttotal: 9.38s\tremaining: 489ms\n",
      "[08:51:01] 1999:\tlearn: 7.9213287\ttest: 9.5916091\tbest: 9.5916091 (1999)\ttotal: 9.85s\tremaining: 0us\n",
      "[08:51:01] bestTest = 9.591609062\n",
      "[08:51:01] bestIteration = 1999\n",
      "[08:51:01] ===== Start working with \u001b[1mfold 1\u001b[0m for \u001b[1mLvl_0_Pipe_0_Mod_1_CatBoost\u001b[0m =====\n"
     ]
    },
    {
     "name": "stdout",
     "output_type": "stream",
     "text": [
      "[08:51:01] 0:\tlearn: 29.7774254\ttest: 29.8883971\tbest: 29.8883971 (0)\ttotal: 4.69ms\tremaining: 9.37s\n",
      "[08:51:02] 100:\tlearn: 14.1535035\ttest: 14.1546205\tbest: 14.1546205 (100)\ttotal: 454ms\tremaining: 8.54s\n",
      "[08:51:02] 200:\tlearn: 12.7795024\ttest: 12.7786842\tbest: 12.7786842 (200)\ttotal: 917ms\tremaining: 8.2s\n",
      "[08:51:03] 300:\tlearn: 11.7815390\ttest: 11.7711714\tbest: 11.7711714 (300)\ttotal: 1.4s\tremaining: 7.88s\n",
      "[08:51:03] 400:\tlearn: 11.1932192\ttest: 11.2003812\tbest: 11.2003812 (400)\ttotal: 1.88s\tremaining: 7.5s\n",
      "[08:51:04] 500:\tlearn: 10.7835314\ttest: 10.8163406\tbest: 10.8163406 (500)\ttotal: 2.35s\tremaining: 7.03s\n",
      "[08:51:04] 600:\tlearn: 10.4814266\ttest: 10.5510762\tbest: 10.5510762 (600)\ttotal: 2.83s\tremaining: 6.6s\n",
      "[08:51:05] 700:\tlearn: 10.2203392\ttest: 10.3153896\tbest: 10.3153896 (700)\ttotal: 3.29s\tremaining: 6.09s\n",
      "[08:51:05] 800:\tlearn: 9.9265774\ttest: 10.0611564\tbest: 10.0611564 (800)\ttotal: 3.75s\tremaining: 5.62s\n",
      "[08:51:06] 900:\tlearn: 9.7305053\ttest: 9.8691564\tbest: 9.8691564 (900)\ttotal: 4.22s\tremaining: 5.14s\n",
      "[08:51:06] 1000:\tlearn: 9.5395536\ttest: 9.7124719\tbest: 9.7124719 (1000)\ttotal: 4.71s\tremaining: 4.7s\n",
      "[08:51:07] 1100:\tlearn: 9.3889499\ttest: 9.6005511\tbest: 9.6005511 (1100)\ttotal: 5.18s\tremaining: 4.23s\n",
      "[08:51:07] 1200:\tlearn: 9.1730450\ttest: 9.4392926\tbest: 9.4392926 (1200)\ttotal: 5.66s\tremaining: 3.77s\n",
      "[08:51:08] 1300:\tlearn: 9.0027520\ttest: 9.3045569\tbest: 9.3045569 (1300)\ttotal: 6.15s\tremaining: 3.3s\n",
      "[08:51:08] 1400:\tlearn: 8.8119282\ttest: 9.1763298\tbest: 9.1763298 (1400)\ttotal: 6.61s\tremaining: 2.83s\n",
      "[08:51:09] 1500:\tlearn: 8.6510573\ttest: 9.0504939\tbest: 9.0504939 (1500)\ttotal: 7.08s\tremaining: 2.35s\n",
      "[08:51:09] 1600:\tlearn: 8.4986198\ttest: 8.9366195\tbest: 8.9366195 (1600)\ttotal: 7.56s\tremaining: 1.89s\n",
      "[08:51:10] 1700:\tlearn: 8.3676870\ttest: 8.8445064\tbest: 8.8445064 (1700)\ttotal: 8.07s\tremaining: 1.42s\n",
      "[08:51:10] 1800:\tlearn: 8.2618368\ttest: 8.7658415\tbest: 8.7658415 (1800)\ttotal: 8.68s\tremaining: 959ms\n",
      "[08:51:11] 1900:\tlearn: 8.1504735\ttest: 8.6858557\tbest: 8.6858557 (1900)\ttotal: 9.17s\tremaining: 478ms\n",
      "[08:51:11] 1999:\tlearn: 8.0333252\ttest: 8.6051188\tbest: 8.6051188 (1999)\ttotal: 9.68s\tremaining: 0us\n",
      "[08:51:11] bestTest = 8.605118807\n",
      "[08:51:11] bestIteration = 1999\n",
      "[08:51:11] ===== Start working with \u001b[1mfold 2\u001b[0m for \u001b[1mLvl_0_Pipe_0_Mod_1_CatBoost\u001b[0m =====\n",
      "[08:51:11] 0:\tlearn: 29.9617604\ttest: 30.0774522\tbest: 30.0774522 (0)\ttotal: 6.6ms\tremaining: 13.2s\n",
      "[08:51:12] 100:\tlearn: 14.0020821\ttest: 14.1814010\tbest: 14.1814010 (100)\ttotal: 488ms\tremaining: 9.17s\n",
      "[08:51:12] 200:\tlearn: 12.7213550\ttest: 13.0478813\tbest: 13.0478813 (200)\ttotal: 1.02s\tremaining: 9.14s\n",
      "[08:51:13] 300:\tlearn: 11.9452699\ttest: 12.6408685\tbest: 12.5519008 (295)\ttotal: 1.5s\tremaining: 8.46s\n",
      "[08:51:13] 400:\tlearn: 11.2945701\ttest: 12.2396325\tbest: 12.2396325 (400)\ttotal: 1.96s\tremaining: 7.81s\n",
      "[08:51:14] 500:\tlearn: 10.7047756\ttest: 11.7837817\tbest: 11.7837817 (500)\ttotal: 2.42s\tremaining: 7.25s\n",
      "[08:51:14] 600:\tlearn: 10.3659609\ttest: 11.4944026\tbest: 11.4944026 (600)\ttotal: 2.88s\tremaining: 6.71s\n",
      "[08:51:15] 700:\tlearn: 10.0824014\ttest: 11.2746942\tbest: 11.2746942 (700)\ttotal: 3.35s\tremaining: 6.2s\n",
      "[08:51:15] 800:\tlearn: 9.7697680\ttest: 11.0160121\tbest: 11.0160121 (800)\ttotal: 3.81s\tremaining: 5.7s\n",
      "[08:51:16] 900:\tlearn: 9.5681646\ttest: 10.8466543\tbest: 10.8466543 (900)\ttotal: 4.28s\tremaining: 5.22s\n",
      "[08:51:16] 1000:\tlearn: 9.2979515\ttest: 10.6240101\tbest: 10.6240101 (1000)\ttotal: 4.74s\tremaining: 4.72s\n",
      "[08:51:17] 1100:\tlearn: 9.1293762\ttest: 10.5259427\tbest: 10.5071978 (1068)\ttotal: 5.23s\tremaining: 4.27s\n",
      "[08:51:17] 1200:\tlearn: 8.9356645\ttest: 10.3939372\tbest: 10.3939372 (1200)\ttotal: 5.7s\tremaining: 3.79s\n",
      "[08:51:18] 1300:\tlearn: 8.7182508\ttest: 10.2088062\tbest: 10.2088062 (1300)\ttotal: 6.17s\tremaining: 3.31s\n",
      "[08:51:18] 1400:\tlearn: 8.5253174\ttest: 10.0752323\tbest: 10.0752323 (1400)\ttotal: 6.63s\tremaining: 2.83s\n",
      "[08:51:19] 1500:\tlearn: 8.3981452\ttest: 9.9783313\tbest: 9.9783313 (1500)\ttotal: 7.12s\tremaining: 2.37s\n",
      "[08:51:19] 1600:\tlearn: 8.2832547\ttest: 9.9070954\tbest: 9.9070954 (1600)\ttotal: 7.59s\tremaining: 1.89s\n",
      "[08:51:20] 1700:\tlearn: 8.1654454\ttest: 9.8326941\tbest: 9.8326941 (1700)\ttotal: 8.06s\tremaining: 1.42s\n",
      "[08:51:20] 1800:\tlearn: 8.0898611\ttest: 9.7872585\tbest: 9.7872585 (1800)\ttotal: 8.58s\tremaining: 948ms\n",
      "[08:51:21] 1900:\tlearn: 8.0003380\ttest: 9.7168242\tbest: 9.7168242 (1900)\ttotal: 9.07s\tremaining: 473ms\n",
      "[08:51:21] 1999:\tlearn: 7.9126999\ttest: 9.6409949\tbest: 9.6409949 (1999)\ttotal: 9.61s\tremaining: 0us\n",
      "[08:51:21] bestTest = 9.640994863\n",
      "[08:51:21] bestIteration = 1999\n",
      "[08:51:21] ===== Start working with \u001b[1mfold 3\u001b[0m for \u001b[1mLvl_0_Pipe_0_Mod_1_CatBoost\u001b[0m =====\n",
      "[08:51:21] 0:\tlearn: 30.0380848\ttest: 29.6844301\tbest: 29.6844301 (0)\ttotal: 5.67ms\tremaining: 11.3s\n",
      "[08:51:22] 100:\tlearn: 14.0238819\ttest: 13.9757979\tbest: 13.9757979 (100)\ttotal: 501ms\tremaining: 9.42s\n",
      "[08:51:22] 200:\tlearn: 12.5798126\ttest: 12.8833677\tbest: 12.8833677 (200)\ttotal: 956ms\tremaining: 8.55s\n",
      "[08:51:23] 300:\tlearn: 11.6337367\ttest: 12.3373136\tbest: 12.2765535 (293)\ttotal: 1.45s\tremaining: 8.16s\n",
      "[08:51:23] 400:\tlearn: 11.0634381\ttest: 12.0793182\tbest: 12.0264566 (371)\ttotal: 1.89s\tremaining: 7.54s\n",
      "[08:51:24] 500:\tlearn: 10.6123384\ttest: 11.9331575\tbest: 11.8080677 (496)\ttotal: 2.35s\tremaining: 7.03s\n",
      "[08:51:24] 600:\tlearn: 10.3310035\ttest: 11.7539450\tbest: 11.7539450 (600)\ttotal: 2.81s\tremaining: 6.54s\n",
      "[08:51:25] 700:\tlearn: 10.0046555\ttest: 11.4745180\tbest: 11.4745180 (700)\ttotal: 3.27s\tremaining: 6.07s\n",
      "[08:51:25] 800:\tlearn: 9.6922607\ttest: 11.2531482\tbest: 11.2168926 (797)\ttotal: 3.75s\tremaining: 5.61s\n",
      "[08:51:26] 900:\tlearn: 9.4631137\ttest: 11.1106634\tbest: 11.0930908 (888)\ttotal: 4.22s\tremaining: 5.14s\n",
      "[08:51:26] 1000:\tlearn: 9.2581720\ttest: 10.9864795\tbest: 10.9864795 (1000)\ttotal: 4.69s\tremaining: 4.68s\n",
      "[08:51:26] 1100:\tlearn: 9.0712978\ttest: 10.8076984\tbest: 10.8076984 (1100)\ttotal: 5.16s\tremaining: 4.21s\n",
      "[08:51:27] 1200:\tlearn: 8.8911449\ttest: 10.6423100\tbest: 10.6423100 (1200)\ttotal: 5.64s\tremaining: 3.75s\n",
      "[08:51:27] 1300:\tlearn: 8.7568537\ttest: 10.5678275\tbest: 10.5678275 (1300)\ttotal: 6.12s\tremaining: 3.29s\n",
      "[08:51:28] 1400:\tlearn: 8.5785444\ttest: 10.4175066\tbest: 10.4175066 (1400)\ttotal: 6.61s\tremaining: 2.83s\n",
      "[08:51:28] 1500:\tlearn: 8.4101831\ttest: 10.2562158\tbest: 10.2561656 (1499)\ttotal: 7.09s\tremaining: 2.36s\n",
      "[08:51:29] 1600:\tlearn: 8.2882031\ttest: 10.1675614\tbest: 10.1675614 (1600)\ttotal: 7.63s\tremaining: 1.9s\n",
      "[08:51:29] 1700:\tlearn: 8.1553953\ttest: 10.0724802\tbest: 10.0724802 (1700)\ttotal: 8.14s\tremaining: 1.43s\n",
      "[08:51:30] 1800:\tlearn: 8.0460057\ttest: 9.9838214\tbest: 9.9838214 (1800)\ttotal: 8.6s\tremaining: 951ms\n",
      "[08:51:30] 1900:\tlearn: 7.9497032\ttest: 9.9062233\tbest: 9.9060319 (1899)\ttotal: 9.12s\tremaining: 475ms\n",
      "[08:51:31] 1999:\tlearn: 7.8772365\ttest: 9.8551755\tbest: 9.8551755 (1999)\ttotal: 9.61s\tremaining: 0us\n",
      "[08:51:31] bestTest = 9.855175451\n",
      "[08:51:31] bestIteration = 1999\n",
      "[08:51:31] ===== Start working with \u001b[1mfold 4\u001b[0m for \u001b[1mLvl_0_Pipe_0_Mod_1_CatBoost\u001b[0m =====\n",
      "[08:51:31] 0:\tlearn: 29.7342050\ttest: 30.9361410\tbest: 30.9361410 (0)\ttotal: 4.71ms\tremaining: 9.4s\n",
      "[08:51:32] 100:\tlearn: 14.0957979\ttest: 14.2490249\tbest: 14.2490249 (100)\ttotal: 449ms\tremaining: 8.44s\n",
      "[08:51:32] 200:\tlearn: 12.6499375\ttest: 12.8516973\tbest: 12.8516973 (200)\ttotal: 1.03s\tremaining: 9.2s\n",
      "[08:51:33] 300:\tlearn: 11.6176493\ttest: 11.9579927\tbest: 11.9579927 (300)\ttotal: 1.48s\tremaining: 8.38s\n",
      "[08:51:33] 400:\tlearn: 10.9179270\ttest: 11.3816340\tbest: 11.3816340 (400)\ttotal: 1.95s\tremaining: 7.78s\n",
      "[08:51:34] 500:\tlearn: 10.4929773\ttest: 11.0011886\tbest: 11.0011886 (500)\ttotal: 2.47s\tremaining: 7.39s\n",
      "[08:51:34] 600:\tlearn: 10.2163783\ttest: 10.7800337\tbest: 10.7800337 (600)\ttotal: 2.96s\tremaining: 6.9s\n",
      "[08:51:35] 700:\tlearn: 9.8907867\ttest: 10.5121220\tbest: 10.5121220 (700)\ttotal: 3.48s\tremaining: 6.46s\n",
      "[08:51:35] 800:\tlearn: 9.6494883\ttest: 10.3211867\tbest: 10.3211867 (800)\ttotal: 3.97s\tremaining: 5.94s\n",
      "[08:51:36] 900:\tlearn: 9.4450603\ttest: 10.1369888\tbest: 10.1369888 (900)\ttotal: 4.47s\tremaining: 5.45s\n",
      "[08:51:36] 1000:\tlearn: 9.2639655\ttest: 9.9970155\tbest: 9.9970155 (1000)\ttotal: 4.94s\tremaining: 4.93s\n",
      "[08:51:37] 1100:\tlearn: 9.0898705\ttest: 9.8547034\tbest: 9.8547034 (1100)\ttotal: 5.4s\tremaining: 4.41s\n"
     ]
    },
    {
     "name": "stdout",
     "output_type": "stream",
     "text": [
      "[08:51:37] 1200:\tlearn: 8.9483374\ttest: 9.7551700\tbest: 9.7551700 (1200)\ttotal: 5.9s\tremaining: 3.93s\n",
      "[08:51:38] 1300:\tlearn: 8.7779486\ttest: 9.6157912\tbest: 9.6157912 (1300)\ttotal: 6.36s\tremaining: 3.42s\n",
      "[08:51:38] 1400:\tlearn: 8.6666037\ttest: 9.5285810\tbest: 9.5285810 (1400)\ttotal: 6.81s\tremaining: 2.91s\n",
      "[08:51:38] 1500:\tlearn: 8.5551842\ttest: 9.4462510\tbest: 9.4462510 (1500)\ttotal: 7.27s\tremaining: 2.42s\n",
      "[08:51:39] 1600:\tlearn: 8.4408910\ttest: 9.3603041\tbest: 9.3602805 (1599)\ttotal: 7.73s\tremaining: 1.93s\n",
      "[08:51:39] 1700:\tlearn: 8.3025568\ttest: 9.2597999\tbest: 9.2597999 (1700)\ttotal: 8.22s\tremaining: 1.45s\n",
      "[08:51:40] 1800:\tlearn: 8.1922676\ttest: 9.1681809\tbest: 9.1681809 (1800)\ttotal: 8.69s\tremaining: 961ms\n",
      "[08:51:40] 1900:\tlearn: 8.1218560\ttest: 9.1212908\tbest: 9.1209378 (1898)\ttotal: 9.19s\tremaining: 479ms\n",
      "[08:51:41] 1999:\tlearn: 8.0108166\ttest: 9.0187932\tbest: 9.0187932 (1999)\ttotal: 9.67s\tremaining: 0us\n",
      "[08:51:41] bestTest = 9.018793151\n",
      "[08:51:41] bestIteration = 1999\n",
      "[08:51:41] Fitting \u001b[1mLvl_0_Pipe_0_Mod_1_CatBoost\u001b[0m finished. score = \u001b[1m-9.342327330255795\u001b[0m\n",
      "[08:51:41] \u001b[1mLvl_0_Pipe_0_Mod_1_CatBoost\u001b[0m fitting and predicting completed\n",
      "[08:51:41] Time left 29906.26 secs\n",
      "\n",
      "[08:51:41] \u001b[1mLayer 1 training completed.\u001b[0m\n",
      "\n",
      "[08:51:41] Blending: optimization starts with equal weights and score \u001b[1m-8.532801344123982\u001b[0m\n",
      "[08:51:41] Blending: iteration \u001b[1m0\u001b[0m: score = \u001b[1m-8.06983137339915\u001b[0m, weights = \u001b[1m[1. 0.]\u001b[0m\n",
      "[08:51:41] Blending: iteration \u001b[1m1\u001b[0m: score = \u001b[1m-8.06983137339915\u001b[0m, weights = \u001b[1m[1. 0.]\u001b[0m\n",
      "[08:51:41] Blending: no score update. Terminated\n",
      "\n",
      "[08:51:41] \u001b[1mAutoml preset training completed in 93.79 seconds\u001b[0m\n",
      "\n",
      "[08:51:41] Model description:\n",
      "Final prediction for new objects (level 0) = \n",
      "\t 1.00000 * (5 averaged models Lvl_0_Pipe_0_Mod_0_LightGBM) \n",
      "\n"
     ]
    }
   ],
   "source": [
    "train_data['pred_prev'] = out_of_fold_predictions.data[:,0]\n",
    "train_reg = train_data[train_data.binary_target!=0]\n",
    "out_of_fold_reg = automl.fit_predict(train_reg, roles = roles, verbose = 4)"
   ]
  },
  {
   "cell_type": "code",
   "execution_count": 31,
   "id": "21765b27",
   "metadata": {},
   "outputs": [],
   "source": [
    "threshold = 0.08\n",
    "test_data['pred_prev'] = test_pred\n",
    "test_reg = test_data[test_data.binary_target!=0]\n",
    "test_valid_reg = test_data[test_data['pred_prev'] > threshold]\n",
    "pred_test_reg = automl.predict(test_reg).data\n",
    "pred_test_valid_reg = automl.predict(test_valid_reg).data"
   ]
  },
  {
   "cell_type": "code",
   "execution_count": 32,
   "id": "f1dfbde0",
   "metadata": {},
   "outputs": [
    {
     "name": "stdout",
     "output_type": "stream",
     "text": [
      "train mae 6.622193717051493\n",
      "valid filter 0 mae 14.255385861401479\n",
      "test filter 0.1 mae 16.918317801952362\n"
     ]
    }
   ],
   "source": [
    "print('train mae {}'.format(mean_absolute_error(train_reg.target, out_of_fold_reg.data)))\n",
    "print('valid filter 0 mae {}'.format(mean_absolute_error(test_reg.target, pred_test_reg)))\n",
    "print('test filter {} mae {}'.format(threshold, mean_absolute_error(test_valid_reg.target, pred_test_valid_reg)))"
   ]
  },
  {
   "cell_type": "code",
   "execution_count": 24,
   "id": "b632d6c0",
   "metadata": {},
   "outputs": [],
   "source": [
    "import pickle\n",
    "with open('regressor.pkl', 'wb') as handle:\n",
    "    pickle.dump(automl, handle)"
   ]
  },
  {
   "cell_type": "code",
   "execution_count": 25,
   "id": "7efd70a4",
   "metadata": {},
   "outputs": [],
   "source": [
    "with open('regressor.pkl', 'rb') as handle:\n",
    "    model = pickle.load(handle)"
   ]
  },
  {
   "cell_type": "code",
   "execution_count": 26,
   "id": "91818777",
   "metadata": {},
   "outputs": [],
   "source": [
    "check_data['pred_prev'] = check_pred\n",
    "reg_check_pred = model.predict(check_data).data[:,0]"
   ]
  },
  {
   "cell_type": "code",
   "execution_count": 27,
   "id": "1440c794",
   "metadata": {},
   "outputs": [],
   "source": [
    "check['Кол-во Дней'] = reg_check_pred.astype(int)\n",
    "check.loc[check_data['pred_prev'] < 0.08, 'Кол-во Дней'] = 0"
   ]
  },
  {
   "cell_type": "code",
   "execution_count": 29,
   "id": "b4654e9b",
   "metadata": {},
   "outputs": [],
   "source": [
    "check.to_excel('Тест_with_result_full.xlsx',\n",
    "            index=False, columns=['obj_key', 'Кодзадачи', 'НазваниеЗадачи', 'Кол-во Дней'])"
   ]
  }
 ],
 "metadata": {
  "colab": {
   "collapsed_sections": [],
   "provenance": []
  },
  "kernelspec": {
   "display_name": "Python 3 (ipykernel)",
   "language": "python",
   "name": "python3"
  },
  "language_info": {
   "codemirror_mode": {
    "name": "ipython",
    "version": 3
   },
   "file_extension": ".py",
   "mimetype": "text/x-python",
   "name": "python",
   "nbconvert_exporter": "python",
   "pygments_lexer": "ipython3",
   "version": "3.8.16"
  },
  "papermill": {
   "default_parameters": {},
   "duration": 1531.539656,
   "end_time": "2021-06-22T20:35:52.076563",
   "environment_variables": {},
   "exception": null,
   "input_path": "__notebook__.ipynb",
   "output_path": "__notebook__.ipynb",
   "parameters": {},
   "start_time": "2021-06-22T20:10:20.536907",
   "version": "2.3.3"
  },
  "vscode": {
   "interpreter": {
    "hash": "77738023c946bcedeeb6a5c983bcfb7849325694ebd87acbc9267f45e9f4af48"
   }
  }
 },
 "nbformat": 4,
 "nbformat_minor": 5
}
